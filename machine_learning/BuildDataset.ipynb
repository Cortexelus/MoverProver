{
 "cells": [
  {
   "cell_type": "code",
   "execution_count": 280,
   "metadata": {},
   "outputs": [],
   "source": [
    "import json\n",
    "import numpy as np\n",
    "import random\n",
    "from random import randint, choice\n",
    "import os\n",
    "import matplotlib.pyplot as plt\n",
    "%matplotlib inline"
   ]
  },
  {
   "cell_type": "code",
   "execution_count": 282,
   "metadata": {},
   "outputs": [
    {
     "name": "stdout",
     "output_type": "stream",
     "text": [
      "16\n"
     ]
    }
   ],
   "source": [
    "# open everything in the JSON directory\n",
    "jsondata = []\n",
    "for filename in os.listdir(\"json\"):\n",
    "    with open(\"json/\"+filename) as json_file:  \n",
    "        jsondata.append(json.load(json_file))\n",
    "print(len(jsondata))\n",
    "#jsondata = jsondata[0:10]"
   ]
  },
  {
   "cell_type": "code",
   "execution_count": 283,
   "metadata": {},
   "outputs": [
    {
     "name": "stdout",
     "output_type": "stream",
     "text": [
      "['Shake It All About', 'The Nobody', 'The Juju Jive', 'African Sun Calling', 'The Wave', 'Running Man', 'The Funky Jumping Jack', 'The Pushup', 'The Jumping Jack', 'The Bridge Lift', 'Quiet Before the Storm', 'The Pincer', 'The Typening', 'The Sitting Too Close', 'The CJ Sip', 'Mr BigHead']\n"
     ]
    }
   ],
   "source": [
    "class_names = []\n",
    "for move in jsondata:\n",
    "    class_names.append(move[\"movename\"])\n",
    "print(class_names)"
   ]
  },
  {
   "cell_type": "code",
   "execution_count": 369,
   "metadata": {},
   "outputs": [
    {
     "name": "stdout",
     "output_type": "stream",
     "text": [
      "x_mean 296.23579343137254\n",
      "x_std 104.47678074054872\n",
      "y_mean 296.20834970588237\n",
      "y_std 131.01498800020616\n",
      "(10000, 60, 17, 3) (10000, 16)\n"
     ]
    }
   ],
   "source": [
    "DATASET_SIZE = 10000\n",
    "SEQ_LEN = 20*3\n",
    "N_CLASSES = len(class_names)\n",
    "\n",
    "def pick_example():\n",
    "    # balance the classes by first picking a class at random \n",
    "    class_id = random.randint(0,N_CLASSES-1)\n",
    "    move = jsondata[class_id]\n",
    "    # from class, pick a random recording of move (balanced examples? maybe bad idea though)\n",
    "    recording = choice(move[\"saved_recordings\"])\n",
    "    # from recording, pick random subsequence \n",
    "    start = random.randint(0,len(recording)-SEQ_LEN-1)\n",
    "    example = recording[start:start+SEQ_LEN]\n",
    "    frames = []\n",
    "    for frame in example:\n",
    "        frames.append(np.array(frame[1]))\n",
    "    return (frames, class_id)\n",
    "\n",
    "## build a batch\n",
    "def generate_dataset():\n",
    "    dataset = []\n",
    "    labels = []\n",
    "    for n in range(DATASET_SIZE):\n",
    "        (example, class_id) = pick_example()\n",
    "        dataset.append(example)\n",
    "        labels.append(class_id)\n",
    "    dataset = np.array(dataset)\n",
    "    dataset = normalize_dataset(dataset)\n",
    "    labels = np.array(labels)\n",
    "    _ = np.zeros((labels.shape[0], labels.max()+1))\n",
    "    _[np.arange(labels.shape[0]),labels] = 1\n",
    "    labels = _\n",
    "    return (dataset, labels)\n",
    "\n",
    "def normalize_dataset(dataset):\n",
    "    b_x = dataset[:,:,:,0]\n",
    "    x_mean = np.mean(b_x)\n",
    "    x_std = np.std(b_x)\n",
    "    b_x -= x_mean\n",
    "    b_x /= x_std\n",
    "    np.clip(b_x, -1, 1, out=b_x)\n",
    "\n",
    "    b_y = dataset[:,:,:,1]\n",
    "    y_mean = np.mean(b_y)\n",
    "    y_std = np.std(b_y)\n",
    "    b_y -= y_mean\n",
    "    b_y /= 2*y_std\n",
    "    np.clip(b_y, -1, 1, out=b_y)\n",
    "\n",
    "    b2 = np.copy(dataset)\n",
    "\n",
    "    b2[:,:,:,0] = b_x\n",
    "    b2[:,:,:,1] = b_y\n",
    "    print(\"x_mean\", x_mean)\n",
    "    print(\"x_std\", x_std)\n",
    "    print(\"y_mean\", y_mean)\n",
    "    print(\"y_std\", y_std)\n",
    "    return b2\n",
    "\n",
    "(dataset, labels) = generate_dataset()\n",
    "print(dataset.shape, labels.shape)"
   ]
  },
  {
   "cell_type": "code",
   "execution_count": 370,
   "metadata": {},
   "outputs": [
    {
     "name": "stdout",
     "output_type": "stream",
     "text": [
      "\n"
     ]
    }
   ],
   "source": [
    "print()"
   ]
  },
  {
   "cell_type": "code",
   "execution_count": 326,
   "metadata": {},
   "outputs": [
    {
     "name": "stdout",
     "output_type": "stream",
     "text": [
      "()\n",
      "()\n",
      "(10000, 60, 17)\n"
     ]
    },
    {
     "name": "stderr",
     "output_type": "stream",
     "text": [
      "/home/cj/anaconda3/envs/keras2/lib/python3.6/site-packages/matplotlib/axes/_axes.py:6462: UserWarning: The 'normed' kwarg is deprecated, and has been replaced by the 'density' kwarg.\n",
      "  warnings.warn(\"The 'normed' kwarg is deprecated, and has been \"\n"
     ]
    },
    {
     "data": {
      "image/png": "[encoded data removed]",
      "text/plain": [
       "<Figure size 432x288 with 1 Axes>"
      ]
     },
     "metadata": {},
     "output_type": "display_data"
    }
   ],
   "source": [
    "# normalize the data further\n",
    "\n",
    "x_values = np.copy(b[:,:,:,0])\n",
    "#print(np.mean(x_values,axis=0).shape)\n",
    "#print(np.std(x_values,axis=0).shape)\n",
    "#x_values -= np.mean(x_values,axis=0)\n",
    "#x_values /= 3*np.std(x_values,axis=0)\n",
    "print(np.mean(x_values).shape)\n",
    "print(np.std(x_values).shape)\n",
    "x_mean = np.mean(x_values)\n",
    "x_std = np.std(x_values)\n",
    "x_values -= x_mean\n",
    "x_values /= x_std\n",
    "print(x_values.shape)\n",
    "x_values = np.reshape(x_values,(-1,17))\n",
    "np.clip(x_values, -1, 1, out=x_values)\n",
    "#x_values += 1\n",
    "#x_values /= 2\n",
    "\n",
    "plt.hist(x_values, normed=True, bins=100)\n",
    "plt.ylabel('Probability');\n"
   ]
  },
  {
   "cell_type": "code",
   "execution_count": 327,
   "metadata": {},
   "outputs": [
    {
     "name": "stdout",
     "output_type": "stream",
     "text": [
      "(10000, 60, 17)\n"
     ]
    },
    {
     "name": "stderr",
     "output_type": "stream",
     "text": [
      "/home/cj/anaconda3/envs/keras2/lib/python3.6/site-packages/matplotlib/axes/_axes.py:6462: UserWarning: The 'normed' kwarg is deprecated, and has been replaced by the 'density' kwarg.\n",
      "  warnings.warn(\"The 'normed' kwarg is deprecated, and has been \"\n"
     ]
    },
    {
     "data": {
      "image/png": "[encoded data removed]",
      "text/plain": [
       "<Figure size 432x288 with 1 Axes>"
      ]
     },
     "metadata": {},
     "output_type": "display_data"
    }
   ],
   "source": [
    "# normalize the data further\n",
    "\n",
    "y_values = np.copy(b[:,:,:,1])\n",
    "y_mean = np.mean(y_values)\n",
    "y_std = np.std(y_values)\n",
    "y_values -= y_mean\n",
    "y_values /= 2*y_std\n",
    "print(y_values.shape)\n",
    "y_values = np.reshape(y_values,(-1,17))\n",
    "np.clip(y_values, -1, 1, out=y_values)\n",
    "#x_values += 1\n",
    "#x_values /= 2\n",
    "\n",
    "plt.hist(y_values, normed=True, bins=100)\n",
    "plt.ylabel('Probability');\n"
   ]
  },
  {
   "cell_type": "code",
   "execution_count": 328,
   "metadata": {},
   "outputs": [
    {
     "name": "stdout",
     "output_type": "stream",
     "text": [
      "-0.014789751391315721\n",
      "0.46385606741322205\n",
      "-0.007188943521281191\n",
      "0.37765950447096397\n"
     ]
    },
    {
     "data": {
      "text/plain": [
       "'\\nx_mean 296.07982264705885\\nx_std 100.7417859650277\\ny_mean 296.39747960784314\\ny_std 126.96237715521292\\n\\n\\n'"
      ]
     },
     "execution_count": 328,
     "metadata": {},
     "output_type": "execute_result"
    }
   ],
   "source": [
    "print(x_mean)\n",
    "print(x_std)\n",
    "print(y_mean)\n",
    "print(y_std)\n",
    "\"\"\"\n",
    "x_mean 296.07982264705885\n",
    "x_std 100.7417859650277\n",
    "y_mean 296.39747960784314\n",
    "y_std 126.96237715521292\n",
    "\n",
    "\n",
    "\"\"\""
   ]
  },
  {
   "cell_type": "code",
   "execution_count": 329,
   "metadata": {},
   "outputs": [
    {
     "name": "stderr",
     "output_type": "stream",
     "text": [
      "/home/cj/anaconda3/envs/keras2/lib/python3.6/site-packages/matplotlib/axes/_axes.py:6462: UserWarning: The 'normed' kwarg is deprecated, and has been replaced by the 'density' kwarg.\n",
      "  warnings.warn(\"The 'normed' kwarg is deprecated, and has been \"\n"
     ]
    },
    {
     "data": {
      "image/png": "[encoded data removed]",
      "text/plain": [
       "<Figure size 432x288 with 1 Axes>"
      ]
     },
     "metadata": {},
     "output_type": "display_data"
    }
   ],
   "source": [
    "b_x = b[:,:,:,0]\n",
    "b_x -= x_mean\n",
    "b_x /= x_std\n",
    "np.clip(b_x, -1, 1, out=b_x)\n",
    "\n",
    "b_y = b[:,:,:,1]\n",
    "b_y -= y_mean\n",
    "b_y /= 2*y_std\n",
    "np.clip(b_y, -1, 1, out=b_y)\n",
    "\n",
    "b2 = np.copy(b)\n",
    "\n",
    "b2[:,:,:,0] = b_x\n",
    "b2[:,:,:,1] = b_y\n",
    "\n",
    "b2 = np.reshape(b2,(-1,17*3))\n",
    "plt.hist(b2, normed=True, bins=100)\n",
    "plt.ylabel('Probability');\n"
   ]
  },
  {
   "cell_type": "code",
   "execution_count": 160,
   "metadata": {},
   "outputs": [
    {
     "name": "stderr",
     "output_type": "stream",
     "text": [
      "/home/cj/anaconda3/envs/keras2/lib/python3.6/site-packages/matplotlib/axes/_axes.py:6462: UserWarning: The 'normed' kwarg is deprecated, and has been replaced by the 'density' kwarg.\n",
      "  warnings.warn(\"The 'normed' kwarg is deprecated, and has been \"\n"
     ]
    },
    {
     "data": {
      "image/png": "[encoded data removed]",
      "text/plain": [
       "<Figure size 432x288 with 1 Axes>"
      ]
     },
     "metadata": {},
     "output_type": "display_data"
    }
   ],
   "source": [
    "\n",
    "b2 = np.reshape(b,(-1,17*3))\n",
    "plt.hist(b2, normed=True, bins=100)\n",
    "plt.ylabel('Probability');\n"
   ]
  },
  {
   "cell_type": "markdown",
   "metadata": {},
   "source": [
    "## TRAINING"
   ]
  },
  {
   "cell_type": "code",
   "execution_count": 331,
   "metadata": {},
   "outputs": [],
   "source": [
    "# LSTM for sequence classification in the IMDB dataset\n",
    "import keras\n",
    "from keras.datasets import imdb\n",
    "from keras.models import Sequential\n",
    "from keras.layers import Dense\n",
    "from keras.layers import LSTM\n",
    "from keras.layers.embeddings import Embedding\n",
    "from keras.preprocessing import sequence\n",
    "from keras.layers.pooling import MaxPooling2D\n",
    "from keras.layers.convolutional import Conv2D\n",
    "from keras.layers import Input, Flatten\n",
    "\n",
    "# fix random seed for reproducibility\n",
    "np.random.seed(7)\n"
   ]
  },
  {
   "cell_type": "code",
   "execution_count": 440,
   "metadata": {},
   "outputs": [
    {
     "name": "stdout",
     "output_type": "stream",
     "text": [
      "x_mean 296.19112352941175\n",
      "x_std 98.23389438334448\n",
      "y_mean 296.12398323529413\n",
      "y_std 124.22041547509181\n",
      "(10000, 60, 17, 3) (10000, 16)\n",
      "x_mean 295.81029343137254\n",
      "x_std 99.31187647194372\n",
      "y_mean 295.2550669607843\n",
      "y_std 125.8251187747067\n",
      "_________________________________________________________________\n",
      "Layer (type)                 Output Shape              Param #   \n",
      "=================================================================\n",
      "conv2d_45 (Conv2D)           (None, 56, 13, 128)       9728      \n",
      "_________________________________________________________________\n",
      "max_pooling2d_43 (MaxPooling (None, 28, 6, 128)        0         \n",
      "_________________________________________________________________\n",
      "conv2d_46 (Conv2D)           (None, 24, 2, 64)         204864    \n",
      "_________________________________________________________________\n",
      "max_pooling2d_44 (MaxPooling (None, 12, 1, 64)         0         \n",
      "_________________________________________________________________\n",
      "flatten_19 (Flatten)         (None, 768)               0         \n",
      "_________________________________________________________________\n",
      "dense_45 (Dense)             (None, 1000)              769000    \n",
      "_________________________________________________________________\n",
      "dropout_9 (Dropout)          (None, 1000)              0         \n",
      "_________________________________________________________________\n",
      "dense_46 (Dense)             (None, 1000)              1001000   \n",
      "_________________________________________________________________\n",
      "dense_47 (Dense)             (None, 16)                16016     \n",
      "=================================================================\n",
      "Total params: 2,000,608\n",
      "Trainable params: 2,000,608\n",
      "Non-trainable params: 0\n",
      "_________________________________________________________________\n",
      "None\n"
     ]
    }
   ],
   "source": [
    "(dataset, labels) = generate_dataset()\n",
    "print(dataset.shape, labels.shape)\n",
    "\n",
    "(dataset2, labels2) = generate_dataset()\n",
    "\n",
    "\n",
    "num_classes = N_CLASSES\n",
    "input_shape = dataset.shape[1:]\n",
    "\n",
    "model = Sequential()\n",
    "model.add(Conv2D(128, kernel_size=(5, 5), strides=(1, 1),\n",
    "                 activation='relu',\n",
    "                 input_shape=(input_shape)))\n",
    "model.add(MaxPooling2D(pool_size=(2, 2), strides=(2, 2)))\n",
    "model.add(Conv2D(64, (5, 5), activation='relu'))\n",
    "model.add(MaxPooling2D(pool_size=(2, 2)))\n",
    "model.add(Flatten())\n",
    "model.add(Dense(1000, kernel_initializer='uniform', activation='relu'))\n",
    "model.add(keras.layers.Dropout(0.5))\n",
    "model.add(Dense(1000, kernel_initializer='uniform', activation='relu'))\n",
    "model.add(Dense(num_classes, activation='softmax'))\n",
    "\n",
    "opt = keras.optimizers.Adagrad(lr=0.001, epsilon=1e-6)\n",
    "model.compile(loss='categorical_crossentropy', optimizer=opt, metrics=['accuracy'])\n",
    "print(model.summary())"
   ]
  },
  {
   "cell_type": "code",
   "execution_count": 452,
   "metadata": {},
   "outputs": [
    {
     "name": "stdout",
     "output_type": "stream",
     "text": [
      "Train on 8000 samples, validate on 2000 samples\n",
      "Epoch 1/40\n",
      "8000/8000 [==============================] - 1s 123us/step - loss: 8.2681e-04 - acc: 1.0000 - val_loss: 1.7014e-04 - val_acc: 1.0000\n",
      "Epoch 2/40\n",
      "8000/8000 [==============================] - 1s 121us/step - loss: 6.9628e-04 - acc: 1.0000 - val_loss: 1.4403e-04 - val_acc: 1.0000\n",
      "Epoch 3/40\n",
      "8000/8000 [==============================] - 1s 120us/step - loss: 6.4771e-04 - acc: 1.0000 - val_loss: 1.7380e-04 - val_acc: 1.0000\n",
      "Epoch 4/40\n",
      "8000/8000 [==============================] - 1s 121us/step - loss: 7.5972e-04 - acc: 1.0000 - val_loss: 1.3746e-04 - val_acc: 1.0000\n",
      "Epoch 5/40\n",
      "8000/8000 [==============================] - 1s 122us/step - loss: 7.2590e-04 - acc: 1.0000 - val_loss: 1.2912e-04 - val_acc: 1.0000\n",
      "Epoch 6/40\n",
      "8000/8000 [==============================] - 1s 123us/step - loss: 6.8803e-04 - acc: 1.0000 - val_loss: 1.3448e-04 - val_acc: 1.0000\n",
      "Epoch 7/40\n",
      "8000/8000 [==============================] - 1s 122us/step - loss: 6.5873e-04 - acc: 1.0000 - val_loss: 1.2507e-04 - val_acc: 1.0000\n",
      "Epoch 8/40\n",
      "8000/8000 [==============================] - 1s 122us/step - loss: 6.0624e-04 - acc: 1.0000 - val_loss: 1.2594e-04 - val_acc: 1.0000\n",
      "Epoch 9/40\n",
      "8000/8000 [==============================] - 1s 119us/step - loss: 5.6683e-04 - acc: 1.0000 - val_loss: 1.1997e-04 - val_acc: 1.0000\n",
      "Epoch 10/40\n",
      "8000/8000 [==============================] - 1s 122us/step - loss: 5.5617e-04 - acc: 1.0000 - val_loss: 1.1324e-04 - val_acc: 1.0000\n",
      "Epoch 11/40\n",
      "8000/8000 [==============================] - 1s 119us/step - loss: 5.3858e-04 - acc: 1.0000 - val_loss: 1.0168e-04 - val_acc: 1.0000\n",
      "Epoch 12/40\n",
      "8000/8000 [==============================] - 1s 121us/step - loss: 5.0179e-04 - acc: 1.0000 - val_loss: 1.0007e-04 - val_acc: 1.0000\n",
      "Epoch 13/40\n",
      "8000/8000 [==============================] - 1s 122us/step - loss: 5.3866e-04 - acc: 1.0000 - val_loss: 1.0146e-04 - val_acc: 1.0000\n",
      "Epoch 14/40\n",
      "8000/8000 [==============================] - 1s 121us/step - loss: 4.8586e-04 - acc: 1.0000 - val_loss: 9.7287e-05 - val_acc: 1.0000\n",
      "Epoch 15/40\n",
      "8000/8000 [==============================] - 1s 123us/step - loss: 5.3854e-04 - acc: 1.0000 - val_loss: 9.8601e-05 - val_acc: 1.0000\n",
      "Epoch 16/40\n",
      "8000/8000 [==============================] - 1s 121us/step - loss: 5.1235e-04 - acc: 1.0000 - val_loss: 1.2315e-04 - val_acc: 1.0000\n",
      "Epoch 17/40\n",
      "8000/8000 [==============================] - 1s 121us/step - loss: 5.9661e-04 - acc: 1.0000 - val_loss: 8.6732e-05 - val_acc: 1.0000\n",
      "Epoch 18/40\n",
      "8000/8000 [==============================] - 1s 121us/step - loss: 4.1928e-04 - acc: 1.0000 - val_loss: 8.5840e-05 - val_acc: 1.0000\n",
      "Epoch 19/40\n",
      "8000/8000 [==============================] - 1s 122us/step - loss: 4.8271e-04 - acc: 1.0000 - val_loss: 7.8698e-05 - val_acc: 1.0000\n",
      "Epoch 20/40\n",
      "8000/8000 [==============================] - 1s 122us/step - loss: 4.2452e-04 - acc: 1.0000 - val_loss: 7.9037e-05 - val_acc: 1.0000\n",
      "Epoch 21/40\n",
      "8000/8000 [==============================] - 1s 123us/step - loss: 4.0547e-04 - acc: 1.0000 - val_loss: 8.3960e-05 - val_acc: 1.0000\n",
      "Epoch 22/40\n",
      "8000/8000 [==============================] - 1s 122us/step - loss: 3.7214e-04 - acc: 1.0000 - val_loss: 7.3930e-05 - val_acc: 1.0000\n",
      "Epoch 23/40\n",
      "8000/8000 [==============================] - 1s 124us/step - loss: 3.4673e-04 - acc: 1.0000 - val_loss: 7.3196e-05 - val_acc: 1.0000\n",
      "Epoch 24/40\n",
      "8000/8000 [==============================] - 1s 122us/step - loss: 4.0058e-04 - acc: 1.0000 - val_loss: 9.7159e-05 - val_acc: 1.0000\n",
      "Epoch 25/40\n",
      "8000/8000 [==============================] - 1s 123us/step - loss: 3.6562e-04 - acc: 1.0000 - val_loss: 7.5058e-05 - val_acc: 1.0000\n",
      "Epoch 26/40\n",
      "8000/8000 [==============================] - 1s 120us/step - loss: 4.2371e-04 - acc: 1.0000 - val_loss: 7.4315e-05 - val_acc: 1.0000\n",
      "Epoch 27/40\n",
      "8000/8000 [==============================] - 1s 122us/step - loss: 3.6764e-04 - acc: 1.0000 - val_loss: 6.5858e-05 - val_acc: 1.0000\n",
      "Epoch 28/40\n",
      "8000/8000 [==============================] - 1s 121us/step - loss: 3.6429e-04 - acc: 1.0000 - val_loss: 6.4153e-05 - val_acc: 1.0000\n",
      "Epoch 29/40\n",
      "8000/8000 [==============================] - 1s 122us/step - loss: 3.2778e-04 - acc: 1.0000 - val_loss: 6.5825e-05 - val_acc: 1.0000\n",
      "Epoch 30/40\n",
      "8000/8000 [==============================] - 1s 121us/step - loss: 3.7105e-04 - acc: 1.0000 - val_loss: 6.2051e-05 - val_acc: 1.0000\n",
      "Epoch 31/40\n",
      "5120/8000 [==================>...........] - ETA: 0s - loss: 3.9668e-04 - acc: 1.0000"
     ]
    },
    {
     "ename": "KeyboardInterrupt",
     "evalue": "",
     "output_type": "error",
     "traceback": [
      "\u001b[0;31m---------------------------------------------------------------------------\u001b[0m",
      "\u001b[0;31mKeyboardInterrupt\u001b[0m                         Traceback (most recent call last)",
      "\u001b[0;32m<ipython-input-452-f809006c2db4>\u001b[0m in \u001b[0;36m<module>\u001b[0;34m()\u001b[0m\n\u001b[1;32m      1\u001b[0m \u001b[0;34m\u001b[0m\u001b[0m\n\u001b[0;32m----> 2\u001b[0;31m \u001b[0mmodel\u001b[0m\u001b[0;34m.\u001b[0m\u001b[0mfit\u001b[0m\u001b[0;34m(\u001b[0m\u001b[0mdataset\u001b[0m\u001b[0;34m,\u001b[0m \u001b[0mlabels\u001b[0m\u001b[0;34m,\u001b[0m \u001b[0mepochs\u001b[0m\u001b[0;34m=\u001b[0m\u001b[0;36m40\u001b[0m\u001b[0;34m,\u001b[0m \u001b[0mbatch_size\u001b[0m\u001b[0;34m=\u001b[0m\u001b[0;36m64\u001b[0m\u001b[0;34m,\u001b[0m\u001b[0mvalidation_split\u001b[0m\u001b[0;34m=\u001b[0m\u001b[0;36m0.2\u001b[0m\u001b[0;34m)\u001b[0m\u001b[0;34m\u001b[0m\u001b[0m\n\u001b[0m\u001b[1;32m      3\u001b[0m \u001b[0;31m# Final evaluation of the model\u001b[0m\u001b[0;34m\u001b[0m\u001b[0;34m\u001b[0m\u001b[0m\n\u001b[1;32m      4\u001b[0m \u001b[0mscores\u001b[0m \u001b[0;34m=\u001b[0m \u001b[0mmodel\u001b[0m\u001b[0;34m.\u001b[0m\u001b[0mevaluate\u001b[0m\u001b[0;34m(\u001b[0m\u001b[0mdataset2\u001b[0m\u001b[0;34m,\u001b[0m \u001b[0mlabels2\u001b[0m\u001b[0;34m,\u001b[0m \u001b[0mverbose\u001b[0m\u001b[0;34m=\u001b[0m\u001b[0;36m1\u001b[0m\u001b[0;34m)\u001b[0m\u001b[0;34m\u001b[0m\u001b[0m\n\u001b[1;32m      5\u001b[0m \u001b[0mprint\u001b[0m\u001b[0;34m(\u001b[0m\u001b[0;34m\"Accuracy: %.2f%%\"\u001b[0m \u001b[0;34m%\u001b[0m \u001b[0;34m(\u001b[0m\u001b[0mscores\u001b[0m\u001b[0;34m[\u001b[0m\u001b[0;36m1\u001b[0m\u001b[0;34m]\u001b[0m\u001b[0;34m*\u001b[0m\u001b[0;36m100\u001b[0m\u001b[0;34m)\u001b[0m\u001b[0;34m)\u001b[0m\u001b[0;34m\u001b[0m\u001b[0m\n",
      "\u001b[0;32m~/anaconda3/envs/keras2/lib/python3.6/site-packages/keras/engine/training.py\u001b[0m in \u001b[0;36mfit\u001b[0;34m(self, x, y, batch_size, epochs, verbose, callbacks, validation_split, validation_data, shuffle, class_weight, sample_weight, initial_epoch, steps_per_epoch, validation_steps, **kwargs)\u001b[0m\n\u001b[1;32m   1037\u001b[0m                                         \u001b[0minitial_epoch\u001b[0m\u001b[0;34m=\u001b[0m\u001b[0minitial_epoch\u001b[0m\u001b[0;34m,\u001b[0m\u001b[0;34m\u001b[0m\u001b[0m\n\u001b[1;32m   1038\u001b[0m                                         \u001b[0msteps_per_epoch\u001b[0m\u001b[0;34m=\u001b[0m\u001b[0msteps_per_epoch\u001b[0m\u001b[0;34m,\u001b[0m\u001b[0;34m\u001b[0m\u001b[0m\n\u001b[0;32m-> 1039\u001b[0;31m                                         validation_steps=validation_steps)\n\u001b[0m\u001b[1;32m   1040\u001b[0m \u001b[0;34m\u001b[0m\u001b[0m\n\u001b[1;32m   1041\u001b[0m     def evaluate(self, x=None, y=None,\n",
      "\u001b[0;32m~/anaconda3/envs/keras2/lib/python3.6/site-packages/keras/engine/training_arrays.py\u001b[0m in \u001b[0;36mfit_loop\u001b[0;34m(model, f, ins, out_labels, batch_size, epochs, verbose, callbacks, val_f, val_ins, shuffle, callback_metrics, initial_epoch, steps_per_epoch, validation_steps)\u001b[0m\n\u001b[1;32m    197\u001b[0m                     \u001b[0mins_batch\u001b[0m\u001b[0;34m[\u001b[0m\u001b[0mi\u001b[0m\u001b[0;34m]\u001b[0m \u001b[0;34m=\u001b[0m \u001b[0mins_batch\u001b[0m\u001b[0;34m[\u001b[0m\u001b[0mi\u001b[0m\u001b[0;34m]\u001b[0m\u001b[0;34m.\u001b[0m\u001b[0mtoarray\u001b[0m\u001b[0;34m(\u001b[0m\u001b[0;34m)\u001b[0m\u001b[0;34m\u001b[0m\u001b[0m\n\u001b[1;32m    198\u001b[0m \u001b[0;34m\u001b[0m\u001b[0m\n\u001b[0;32m--> 199\u001b[0;31m                 \u001b[0mouts\u001b[0m \u001b[0;34m=\u001b[0m \u001b[0mf\u001b[0m\u001b[0;34m(\u001b[0m\u001b[0mins_batch\u001b[0m\u001b[0;34m)\u001b[0m\u001b[0;34m\u001b[0m\u001b[0m\n\u001b[0m\u001b[1;32m    200\u001b[0m                 \u001b[0mouts\u001b[0m \u001b[0;34m=\u001b[0m \u001b[0mto_list\u001b[0m\u001b[0;34m(\u001b[0m\u001b[0mouts\u001b[0m\u001b[0;34m)\u001b[0m\u001b[0;34m\u001b[0m\u001b[0m\n\u001b[1;32m    201\u001b[0m                 \u001b[0;32mfor\u001b[0m \u001b[0ml\u001b[0m\u001b[0;34m,\u001b[0m \u001b[0mo\u001b[0m \u001b[0;32min\u001b[0m \u001b[0mzip\u001b[0m\u001b[0;34m(\u001b[0m\u001b[0mout_labels\u001b[0m\u001b[0;34m,\u001b[0m \u001b[0mouts\u001b[0m\u001b[0;34m)\u001b[0m\u001b[0;34m:\u001b[0m\u001b[0;34m\u001b[0m\u001b[0m\n",
      "\u001b[0;32m~/anaconda3/envs/keras2/lib/python3.6/site-packages/keras/backend/tensorflow_backend.py\u001b[0m in \u001b[0;36m__call__\u001b[0;34m(self, inputs)\u001b[0m\n\u001b[1;32m   2713\u001b[0m                 \u001b[0;32mreturn\u001b[0m \u001b[0mself\u001b[0m\u001b[0;34m.\u001b[0m\u001b[0m_legacy_call\u001b[0m\u001b[0;34m(\u001b[0m\u001b[0minputs\u001b[0m\u001b[0;34m)\u001b[0m\u001b[0;34m\u001b[0m\u001b[0m\n\u001b[1;32m   2714\u001b[0m \u001b[0;34m\u001b[0m\u001b[0m\n\u001b[0;32m-> 2715\u001b[0;31m             \u001b[0;32mreturn\u001b[0m \u001b[0mself\u001b[0m\u001b[0;34m.\u001b[0m\u001b[0m_call\u001b[0m\u001b[0;34m(\u001b[0m\u001b[0minputs\u001b[0m\u001b[0;34m)\u001b[0m\u001b[0;34m\u001b[0m\u001b[0m\n\u001b[0m\u001b[1;32m   2716\u001b[0m         \u001b[0;32melse\u001b[0m\u001b[0;34m:\u001b[0m\u001b[0;34m\u001b[0m\u001b[0m\n\u001b[1;32m   2717\u001b[0m             \u001b[0;32mif\u001b[0m \u001b[0mpy_any\u001b[0m\u001b[0;34m(\u001b[0m\u001b[0mis_tensor\u001b[0m\u001b[0;34m(\u001b[0m\u001b[0mx\u001b[0m\u001b[0;34m)\u001b[0m \u001b[0;32mfor\u001b[0m \u001b[0mx\u001b[0m \u001b[0;32min\u001b[0m \u001b[0minputs\u001b[0m\u001b[0;34m)\u001b[0m\u001b[0;34m:\u001b[0m\u001b[0;34m\u001b[0m\u001b[0m\n",
      "\u001b[0;32m~/anaconda3/envs/keras2/lib/python3.6/site-packages/keras/backend/tensorflow_backend.py\u001b[0m in \u001b[0;36m_call\u001b[0;34m(self, inputs)\u001b[0m\n\u001b[1;32m   2673\u001b[0m             \u001b[0mfetched\u001b[0m \u001b[0;34m=\u001b[0m \u001b[0mself\u001b[0m\u001b[0;34m.\u001b[0m\u001b[0m_callable_fn\u001b[0m\u001b[0;34m(\u001b[0m\u001b[0;34m*\u001b[0m\u001b[0marray_vals\u001b[0m\u001b[0;34m,\u001b[0m \u001b[0mrun_metadata\u001b[0m\u001b[0;34m=\u001b[0m\u001b[0mself\u001b[0m\u001b[0;34m.\u001b[0m\u001b[0mrun_metadata\u001b[0m\u001b[0;34m)\u001b[0m\u001b[0;34m\u001b[0m\u001b[0m\n\u001b[1;32m   2674\u001b[0m         \u001b[0;32melse\u001b[0m\u001b[0;34m:\u001b[0m\u001b[0;34m\u001b[0m\u001b[0m\n\u001b[0;32m-> 2675\u001b[0;31m             \u001b[0mfetched\u001b[0m \u001b[0;34m=\u001b[0m \u001b[0mself\u001b[0m\u001b[0;34m.\u001b[0m\u001b[0m_callable_fn\u001b[0m\u001b[0;34m(\u001b[0m\u001b[0;34m*\u001b[0m\u001b[0marray_vals\u001b[0m\u001b[0;34m)\u001b[0m\u001b[0;34m\u001b[0m\u001b[0m\n\u001b[0m\u001b[1;32m   2676\u001b[0m         \u001b[0;32mreturn\u001b[0m \u001b[0mfetched\u001b[0m\u001b[0;34m[\u001b[0m\u001b[0;34m:\u001b[0m\u001b[0mlen\u001b[0m\u001b[0;34m(\u001b[0m\u001b[0mself\u001b[0m\u001b[0;34m.\u001b[0m\u001b[0moutputs\u001b[0m\u001b[0;34m)\u001b[0m\u001b[0;34m]\u001b[0m\u001b[0;34m\u001b[0m\u001b[0m\n\u001b[1;32m   2677\u001b[0m \u001b[0;34m\u001b[0m\u001b[0m\n",
      "\u001b[0;32m~/anaconda3/envs/keras2/lib/python3.6/site-packages/tensorflow/python/client/session.py\u001b[0m in \u001b[0;36m__call__\u001b[0;34m(self, *args, **kwargs)\u001b[0m\n\u001b[1;32m   1380\u001b[0m     \u001b[0;31m# and update `feed_dict` to use the new handle.\u001b[0m\u001b[0;34m\u001b[0m\u001b[0;34m\u001b[0m\u001b[0m\n\u001b[1;32m   1381\u001b[0m     \u001b[0mhandle_movers\u001b[0m \u001b[0;34m=\u001b[0m \u001b[0;34m[\u001b[0m\u001b[0;34m]\u001b[0m\u001b[0;34m\u001b[0m\u001b[0m\n\u001b[0;32m-> 1382\u001b[0;31m     \u001b[0;32mfor\u001b[0m \u001b[0mfeed_name\u001b[0m\u001b[0;34m,\u001b[0m \u001b[0mval\u001b[0m \u001b[0;32min\u001b[0m \u001b[0mfeed_map\u001b[0m\u001b[0;34m.\u001b[0m\u001b[0mitems\u001b[0m\u001b[0;34m(\u001b[0m\u001b[0;34m)\u001b[0m\u001b[0;34m:\u001b[0m\u001b[0;34m\u001b[0m\u001b[0m\n\u001b[0m\u001b[1;32m   1383\u001b[0m       \u001b[0mmover\u001b[0m \u001b[0;34m=\u001b[0m \u001b[0msession_ops\u001b[0m\u001b[0;34m.\u001b[0m\u001b[0m_get_handle_mover\u001b[0m\u001b[0;34m(\u001b[0m\u001b[0mself\u001b[0m\u001b[0;34m.\u001b[0m\u001b[0mgraph\u001b[0m\u001b[0;34m,\u001b[0m \u001b[0;34m*\u001b[0m\u001b[0mval\u001b[0m\u001b[0;34m)\u001b[0m\u001b[0;34m\u001b[0m\u001b[0m\n\u001b[1;32m   1384\u001b[0m       \u001b[0;32mif\u001b[0m \u001b[0mmover\u001b[0m\u001b[0;34m:\u001b[0m\u001b[0;34m\u001b[0m\u001b[0m\n",
      "\u001b[0;31mKeyboardInterrupt\u001b[0m: "
     ]
    }
   ],
   "source": [
    "\n",
    "model.fit(dataset, labels, epochs=40, batch_size=64,validation_split=0.2)\n",
    "# Final evaluation of the model\n",
    "scores = model.evaluate(dataset2, labels2, verbose=1)\n",
    "print(\"Accuracy: %.2f%%\" % (scores[1]*100))"
   ]
  },
  {
   "cell_type": "code",
   "execution_count": 295,
   "metadata": {},
   "outputs": [],
   "source": [
    "import tensorflowjs as tfjs"
   ]
  },
  {
   "cell_type": "code",
   "execution_count": 465,
   "metadata": {},
   "outputs": [
    {
     "name": "stdout",
     "output_type": "stream",
     "text": [
      "Saved model to disk\n"
     ]
    }
   ],
   "source": [
    "# serialize model to JSON\n",
    "model_json = model.to_json()\n",
    "with open(\"model3.json\", \"w\") as json_file:\n",
    "    json_file.write(model_json)\n",
    "# serialize weights to HDF5\n",
    "model.save_weights(\"model3.h5\")\n",
    "print(\"Saved model to disk\")"
   ]
  },
  {
   "cell_type": "code",
   "execution_count": 466,
   "metadata": {},
   "outputs": [
    {
     "name": "stdout",
     "output_type": "stream",
     "text": [
      "Loaded model from disk\n",
      "acc: 100.00%\n"
     ]
    }
   ],
   "source": [
    "from keras.models import model_from_json\n",
    "\n",
    "# load json and create model\n",
    "json_file = open('model3.json', 'r')\n",
    "loaded_model_json = json_file.read()\n",
    "json_file.close()\n",
    "loaded_model = model_from_json(loaded_model_json)\n",
    "# load weights into new model\n",
    "loaded_model.load_weights(\"model3.h5\")\n",
    "print(\"Loaded model from disk\")\n",
    "\n",
    "# evaluate loaded model on test data\n",
    "loaded_model.compile(loss='binary_crossentropy', optimizer='rmsprop', metrics=['accuracy'])\n",
    "score = loaded_model.evaluate(dataset_test, labels_test, verbose=0)\n",
    "print(\"%s: %.2f%%\" % (loaded_model.metrics_names[1], score[1]*100))"
   ]
  },
  {
   "cell_type": "code",
   "execution_count": 223,
   "metadata": {},
   "outputs": [],
   "source": [
    "import tensorflowjs as tfjs"
   ]
  },
  {
   "cell_type": "code",
   "execution_count": 467,
   "metadata": {},
   "outputs": [],
   "source": [
    "tfjs.converters.save_keras_model(model, \"tfjs3\")"
   ]
  },
  {
   "cell_type": "code",
   "execution_count": 337,
   "metadata": {},
   "outputs": [
    {
     "name": "stdout",
     "output_type": "stream",
     "text": [
      "9500/9500 [==============================] - 1s 82us/step\n",
      "acc: 88.25%\n"
     ]
    }
   ],
   "source": [
    "score = loaded_model.evaluate(dataset_train, labels_train, verbose=1)\n",
    "print(\"%s: %.2f%%\" % (loaded_model.metrics_names[1], score[1]*100))"
   ]
  },
  {
   "cell_type": "code",
   "execution_count": 468,
   "metadata": {},
   "outputs": [
    {
     "name": "stdout",
     "output_type": "stream",
     "text": [
      "10000/10000 [==============================] - 1s 83us/step\n",
      "acc: 100.00%\n"
     ]
    }
   ],
   "source": [
    "score = model.evaluate(dataset2, labels2, verbose=1)\n",
    "print(\"%s: %.2f%%\" % (model.metrics_names[1], score[1]*100))"
   ]
  },
  {
   "cell_type": "code",
   "execution_count": 460,
   "metadata": {},
   "outputs": [
    {
     "data": {
      "text/plain": [
       "0"
      ]
     },
     "execution_count": 460,
     "metadata": {},
     "output_type": "execute_result"
    }
   ],
   "source": [
    "predictions = model.predict_classes(dataset2)\n",
    "difference = np.abs(np.argmax(labels2,axis=1) - predictions)\n",
    "np.sum(difference)"
   ]
  },
  {
   "cell_type": "code",
   "execution_count": 461,
   "metadata": {},
   "outputs": [
    {
     "data": {
      "text/plain": [
       "[<matplotlib.lines.Line2D at 0x7f2d98531390>]"
      ]
     },
     "execution_count": 461,
     "metadata": {},
     "output_type": "execute_result"
    },
    {
     "data": {
      "image/png": "[encoded data removed]",
      "text/plain": [
       "<Figure size 432x288 with 1 Axes>"
      ]
     },
     "metadata": {},
     "output_type": "display_data"
    }
   ],
   "source": [
    "predictions = model.predict_classes(dataset2)\n",
    "plt.plot(predictions)"
   ]
  },
  {
   "cell_type": "code",
   "execution_count": 462,
   "metadata": {},
   "outputs": [
    {
     "name": "stderr",
     "output_type": "stream",
     "text": [
      "/home/cj/anaconda3/envs/keras2/lib/python3.6/site-packages/matplotlib/axes/_axes.py:6462: UserWarning: The 'normed' kwarg is deprecated, and has been replaced by the 'density' kwarg.\n",
      "  warnings.warn(\"The 'normed' kwarg is deprecated, and has been \"\n"
     ]
    },
    {
     "data": {
      "image/png": "[encoded data removed]",
      "text/plain": [
       "<Figure size 432x288 with 1 Axes>"
      ]
     },
     "metadata": {},
     "output_type": "display_data"
    }
   ],
   "source": [
    "\n",
    "plt.hist(predictions, normed=True)\n",
    "plt.ylabel('Probability');"
   ]
  },
  {
   "cell_type": "code",
   "execution_count": 464,
   "metadata": {},
   "outputs": [
    {
     "name": "stderr",
     "output_type": "stream",
     "text": [
      "/home/cj/anaconda3/envs/keras2/lib/python3.6/site-packages/matplotlib/axes/_axes.py:6462: UserWarning: The 'normed' kwarg is deprecated, and has been replaced by the 'density' kwarg.\n",
      "  warnings.warn(\"The 'normed' kwarg is deprecated, and has been \"\n"
     ]
    },
    {
     "data": {
      "image/png": "[encoded data removed]",
      "text/plain": [
       "<Figure size 432x288 with 1 Axes>"
      ]
     },
     "metadata": {},
     "output_type": "display_data"
    }
   ],
   "source": [
    "plt.hist(np.argmax(labels2,axis=1), normed=True)\n",
    "plt.ylabel('Probability');"
   ]
  },
  {
   "cell_type": "code",
   "execution_count": 459,
   "metadata": {},
   "outputs": [
    {
     "data": {
      "text/plain": [
       "53767"
      ]
     },
     "execution_count": 459,
     "metadata": {},
     "output_type": "execute_result"
    }
   ],
   "source": []
  },
  {
   "cell_type": "code",
   "execution_count": null,
   "metadata": {},
   "outputs": [],
   "source": []
  },
  {
   "cell_type": "code",
   "execution_count": null,
   "metadata": {},
   "outputs": [],
   "source": []
  }
 ],
 "metadata": {
  "kernelspec": {
   "display_name": "Environment (conda_keras2)",
   "language": "python",
   "name": "conda_keras2"
  },
  "language_info": {
   "codemirror_mode": {
    "name": "ipython",
    "version": 3
   },
   "file_extension": ".py",
   "mimetype": "text/x-python",
   "name": "python",
   "nbconvert_exporter": "python",
   "pygments_lexer": "ipython3",
   "version": "3.6.5"
  }
 },
 "nbformat": 4,
 "nbformat_minor": 2
}
